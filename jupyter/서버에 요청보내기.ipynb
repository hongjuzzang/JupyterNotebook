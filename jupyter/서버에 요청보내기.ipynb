{
 "cells": [
  {
   "cell_type": "code",
   "execution_count": 1,
   "metadata": {},
   "outputs": [],
   "source": [
    "import requests"
   ]
  },
  {
   "cell_type": "code",
   "execution_count": 4,
   "metadata": {},
   "outputs": [
    {
     "data": {
      "text/plain": [
       "<Response [200]>"
      ]
     },
     "execution_count": 4,
     "metadata": {},
     "output_type": "execute_result"
    }
   ],
   "source": [
    "page =  requests.get(\"https://www.google.com\")\n",
    "page"
   ]
  },
  {
   "cell_type": "code",
   "execution_count": 5,
   "metadata": {},
   "outputs": [
    {
     "data": {
      "text/plain": [
       "requests.models.Response"
      ]
     },
     "execution_count": 5,
     "metadata": {},
     "output_type": "execute_result"
    }
   ],
   "source": [
    "type(page)"
   ]
  },
  {
   "cell_type": "code",
   "execution_count": 6,
   "metadata": {},
   "outputs": [
    {
     "data": {
      "text/plain": [
       "'<!doctype html><html itemscope=\"\" itemtype=\"http://schema.org/WebPage\" lang=\"ko\"><head><meta content=\"text/html; charset=UTF-8\" http-equiv=\"Content-Type\"><meta content=\"/images/branding/googleg/1x/googleg_standard_color_128dp.png\" itemprop=\"image\"><title>Google</title><script nonce=\"sNZI3pZ0zpG7oElNpKMtbg==\">(function(){window.google={kEI:\\'qrlhXrePNNOUr7wP36aR2As\\',kEXPI:\\'0,1353746,5663,731,223,3656,1448,207,1698,716,790,10,1051,175,364,976,459,4,60,238,504,43,32,383,142,60,44,5,1103,251,82,43,387,8,245,8,13,414803,712177,1197753,271,125,41,329077,1294,12383,4855,32692,15247,867,28684,369,8819,8384,4859,1361,4323,4967,3025,4743,2902,216,7910,1,1812,1239,2781,978,7931,5297,2054,920,873,1215,1712,1,1264,6430,9003,2303,2884,20,317,1981,2537,2779,518,399,2277,8,2796,889,704,1279,2212,202,328,149,1103,840,517,1474,48,820,3438,312,1137,2,2063,606,789,1050,184,546,1231,520,1947,747,429,1043,3,100,329,1283,16,2927,1639,608,473,1339,748,1039,2269,1,957,773,2072,7,1320,951,3328,2034,6513,2663,641,537,1913,2458,1226,496,966,3934,1275,108,1246,1681,480,404,504,2,1913,1642,1883,514,1387,469,3563,225,996,780,50,793,47,185,2,293,1767,188,3,346,201,29,156,814,183,388,40,254,496,8,70,623,471,217,1589,443,1,435,2,270,148,1856,317,1328,99,3,806,706,1,874,28,201,169,459,2,116,2,56,126,228,569,23,273,208,391,91,505,172,1039,192,28,893,423,2238,1227,179,317,6,559,366,20,641,74,156,661,22,119,358,927,2,5838226,1805894,4194968,2801054,549,333,444,1,2,80,1,900,896,1,8,1,2,2551,1,748,141,59,736,563,1,4265,1,1,1,1,137,1,879,9,305,641,5,76,20,3,1,118,10,64,23963465,25\\',kBL:\\'ED6e\\'};google.sn=\\'webhp\\';google.kHL=\\'ko\\';})();(function(){google.lc=[];google.li=0;google.getEI=function(a){for(var b;a&&(!a.getAttribute||!(b=a.getAttribute(\"eid\")));)a=a.parentNode;return b||google.kEI};google.getLEI=function(a){for(var b=null;a&&(!a.getAttribute||!(b=a.getAttribute(\"leid\")));)a=a.parentNode;return b};google.ml=function(){return null};google.time=function(){return Date.now()};google.log=function(a,b,e,c,g){if(a=google.logUrl(a,b,e,c,g)){b=new Image;var d=google.lc,f=google.li;d[f]=b;b.onerror=b.onload=b.onabort=function(){delete d[f]};google.vel&&google.vel.lu&&google.vel.lu(a);b.src=a;google.li=f+1}};google.logUrl=function(a,b,e,c,g){var d=\"\",f=google.ls||\"\";e||-1!=b.search(\"&ei=\")||(d=\"&ei=\"+google.getEI(c),-1==b.search(\"&lei=\")&&(c=google.getLEI(c))&&(d+=\"&lei=\"+c));c=\"\";!e&&google.cshid&&-1==b.search(\"&cshid=\")&&\"slh\"!=a&&(c=\"&cshid=\"+google.cshid);a=e||\"/\"+(g||\"gen_204\")+\"?atyp=i&ct=\"+a+\"&cad=\"+b+d+f+\"&zx=\"+google.time()+c;/^http:/i.test(a)&&\"https:\"==window.location.protocol&&(google.ml(Error(\"a\"),!1,{src:a,glmm:1}),a=\"\");return a};}).call(this);(function(){google.y={};google.x=function(a,b){if(a)var c=a.id;else{do c=Math.random();while(google.y[c])}google.y[c]=[a,b];return!1};google.lm=[];google.plm=function(a){google.lm.push.apply(google.lm,a)};google.lq=[];google.load=function(a,b,c){google.lq.push([[a],b,c])};google.loadAll=function(a,b){google.lq.push([a,b])};}).call(this);google.f={};(function(){\\ndocument.documentElement.addEventListener(\"submit\",function(b){var a;if(a=b.target){var c=a.getAttribute(\"data-submitfalse\");a=\"1\"==c||\"q\"==c&&!a.elements.q.value?!0:!1}else a=!1;a&&(b.preventDefault(),b.stopPropagation())},!0);document.documentElement.addEventListener(\"click\",function(b){var a;a:{for(a=b.target;a&&a!=document.documentElement;a=a.parentElement)if(\"A\"==a.tagName){a=\"1\"==a.getAttribute(\"data-nohref\");break a}a=!1}a&&b.preventDefault()},!0);}).call(this);\\nvar a=window.location,b=a.href.indexOf(\"#\");if(0<=b){var c=a.href.substring(b+1);/(^|&)q=/.test(c)&&-1==c.indexOf(\"#\")&&a.replace(\"/search?\"+c.replace(/(^|&)fp=[^&]*/g,\"\")+\"&cad=h\")};</script><style>#gbar,#guser{font-size:13px;padding-top:1px !important;}#gbar{height:22px}#guser{padding-bottom:7px !important;text-align:right}.gbh,.gbd{border-top:1px solid #c9d7f1;font-size:1px}.gbh{height:0;position:absolute;top:24px;width:100%}@media all{.gb1{height:22px;margin-right:.5em;vertical-align:top}#gbar{float:left}}a.gb1,a.gb4{text-decoration:underline !important}a.gb1,a.gb4{color:#00c !important}.gbi .gb4{color:#dd8e27 !important}.gbf .gb4{color:#900 !important}\\n</style><style>body,td,a,p,.h{font-family:&#44404;&#47548;,&#46027;&#50880;,arial,sans-serif}.ko{font-size:9pt}body{margin:0;overflow-y:scroll}#gog{padding:3px 8px 0}td{line-height:.8em}.gac_m td{line-height:17px}form{margin-bottom:20px}.h{color:#36c}.q{color:#00c}.ts td{padding:0}.ts{border-collapse:collapse}em{font-weight:bold;font-style:normal}.lst{height:25px;width:496px}.gsfi,.lst{font:18px arial,sans-serif}.gsfs{font:17px arial,sans-serif}.ds{display:inline-box;display:inline-block;margin:3px 0 4px;margin-left:4px}input{font-family:inherit}body{background:#fff;color:#000}a{color:#11c;text-decoration:none}a:hover,a:active{text-decoration:underline}.fl a{color:#36c}a:visited{color:#551a8b}.sblc{padding-top:5px}.sblc a{display:block;margin:2px 0;margin-left:13px;font-size:11px}.lsbb{background:#eee;border:solid 1px;border-color:#ccc #999 #999 #ccc;height:30px}.lsbb{display:block}.ftl,#fll a{display:inline-block;margin:0 12px}.lsb{background:url(/images/nav_logo229.png) 0 -261px repeat-x;border:none;color:#000;cursor:pointer;height:30px;margin:0;outline:0;font:15px arial,sans-serif;vertical-align:top}.lsb:active{background:#ccc}.lst:focus{outline:none}.tiah{width:458px}</style><script nonce=\"sNZI3pZ0zpG7oElNpKMtbg==\"></script></head><body bgcolor=\"#fff\"><script nonce=\"sNZI3pZ0zpG7oElNpKMtbg==\">(function(){var src=\\'/images/nav_logo229.png\\';var iesg=false;document.body.onload = function(){window.n && window.n();if (document.images){new Image().src=src;}\\nif (!iesg){document.f&&document.f.q.focus();document.gbqf&&document.gbqf.q.focus();}\\n}\\n})();</script><div id=\"mngb\"> <div id=gbar><nobr><b class=gb1>&#44160;&#49353;</b> <a class=gb1 href=\"https://www.google.co.kr/imghp?hl=ko&tab=wi\">&#51060;&#48120;&#51648;</a> <a class=gb1 href=\"https://maps.google.co.kr/maps?hl=ko&tab=wl\">&#51648;&#46020;</a> <a class=gb1 href=\"https://play.google.com/?hl=ko&tab=w8\">Play</a> <a class=gb1 href=\"https://www.youtube.com/?gl=KR&tab=w1\">YouTube</a> <a class=gb1 href=\"https://news.google.co.kr/nwshp?hl=ko&tab=wn\">&#45684;&#49828;</a> <a class=gb1 href=\"https://mail.google.com/mail/?tab=wm\">Gmail</a> <a class=gb1 href=\"https://drive.google.com/?tab=wo\">&#46300;&#46972;&#51060;&#48652;</a> <a class=gb1 style=\"text-decoration:none\" href=\"https://www.google.co.kr/intl/ko/about/products?tab=wh\"><u>&#45908;&#48372;&#44592;</u> &raquo;</a></nobr></div><div id=guser width=100%><nobr><span id=gbn class=gbi></span><span id=gbf class=gbf></span><span id=gbe></span><a href=\"http://www.google.co.kr/history/optout?hl=ko\" class=gb4>&#50937; &#44592;&#47197;</a> | <a  href=\"/preferences?hl=ko\" class=gb4>&#49444;&#51221;</a> | <a target=_top id=gb_70 href=\"https://accounts.google.com/ServiceLogin?hl=ko&passive=true&continue=https://www.google.com/\" class=gb4>&#47196;&#44536;&#51064;</a></nobr></div><div class=gbh style=left:0></div><div class=gbh style=right:0></div> </div><center><br clear=\"all\" id=\"lgpd\"><div id=\"lga\"><img alt=\"Google\" height=\"92\" src=\"/images/branding/googlelogo/1x/googlelogo_white_background_color_272x92dp.png\" style=\"padding:28px 0 14px\" width=\"272\" id=\"hplogo\"><br><br></div><form action=\"/search\" name=\"f\"><table cellpadding=\"0\" cellspacing=\"0\"><tr valign=\"top\"><td width=\"25%\">&nbsp;</td><td align=\"center\" nowrap=\"\"><input name=\"ie\" value=\"ISO-8859-1\" type=\"hidden\"><input value=\"ko\" name=\"hl\" type=\"hidden\"><input name=\"source\" type=\"hidden\" value=\"hp\"><input name=\"biw\" type=\"hidden\"><input name=\"bih\" type=\"hidden\"><div class=\"ds\" style=\"height:32px;margin:4px 0\"><div style=\"position:relative;zoom:1\"><input class=\"lst tiah\" style=\"margin:0;padding:5px 8px 0 6px;vertical-align:top;color:#000;padding-right:38px\" autocomplete=\"off\" value=\"\" title=\"Google &#44160;&#49353;\" maxlength=\"2048\" name=\"q\" size=\"57\"><img src=\"/textinputassistant/tia.png\" style=\"position:absolute;cursor:pointer;right:5px;top:4px;z-index:300\" data-script-url=\"/textinputassistant/11/ko_tia.js\" id=\"tsuid1\" alt=\"\" height=\"23\" width=\"27\"><script nonce=\"sNZI3pZ0zpG7oElNpKMtbg==\">(function(){var id=\\'tsuid1\\';document.getElementById(id).onclick = function(){var s = document.createElement(\\'script\\');s.src = this.getAttribute(\\'data-script-url\\');(document.getElementById(\\'xjsc\\')||document.body).appendChild(s);};})();</script></div></div><br style=\"line-height:0\"><span class=\"ds\"><span class=\"lsbb\"><input class=\"lsb\" value=\"Google &#44160;&#49353;\" name=\"btnG\" type=\"submit\"></span></span><span class=\"ds\"><span class=\"lsbb\"><input class=\"lsb\" id=\"tsuid2\" value=\"I&#8217;m Feeling Lucky\" name=\"btnI\" type=\"submit\"><script nonce=\"sNZI3pZ0zpG7oElNpKMtbg==\">(function(){var id=\\'tsuid2\\';document.getElementById(id).onclick = function(){if (this.form.q.value){this.checked = 1;if (this.form.iflsig)this.form.iflsig.disabled = false;}\\nelse top.location=\\'/doodles/\\';};})();</script><input value=\"AINFCbYAAAAAXmHHurYP3G6d2ErShp-yMbSbAQJMLH58\" name=\"iflsig\" type=\"hidden\"></span></span></td><td class=\"fl sblc\" align=\"left\" nowrap=\"\" width=\"25%\"><a href=\"/advanced_search?hl=ko&amp;authuser=0\">&#44256;&#44553;&#44160;&#49353;</a></td></tr></table><input id=\"gbv\" name=\"gbv\" type=\"hidden\" value=\"1\"><script nonce=\"sNZI3pZ0zpG7oElNpKMtbg==\">(function(){var a,b=\"1\";if(document&&document.getElementById)if(\"undefined\"!=typeof XMLHttpRequest)b=\"2\";else if(\"undefined\"!=typeof ActiveXObject){var c,d,e=[\"MSXML2.XMLHTTP.6.0\",\"MSXML2.XMLHTTP.3.0\",\"MSXML2.XMLHTTP\",\"Microsoft.XMLHTTP\"];for(c=0;d=e[c++];)try{new ActiveXObject(d),b=\"2\"}catch(h){}}a=b;if(\"2\"==a&&-1==location.search.indexOf(\"&gbv=2\")){var f=google.gbvu,g=document.getElementById(\"gbv\");g&&(g.value=a);f&&window.setTimeout(function(){location.href=f},0)};}).call(this);</script></form><div id=\"gac_scont\"></div><div style=\"font-size:83%;min-height:3.5em\"><br></div><span id=\"footer\"><div style=\"font-size:10pt\"><div style=\"margin:19px auto;text-align:center\" id=\"fll\"><a href=\"/intl/ko/ads/\">&#44305;&#44256; &#54532;&#47196;&#44536;&#47016;</a><a href=\"http://www.google.co.kr/intl/ko/services/\">&#48708;&#51592;&#45768;&#49828; &#49556;&#47336;&#49496;</a><a href=\"/intl/ko/about.html\">Google &#51221;&#48372;</a><a href=\"https://www.google.com/setprefdomain?prefdom=KR&amp;prev=https://www.google.co.kr/&amp;sig=K_NDfZdfZmYBpDOSpIEjDPuTuNbbU%3D\">Google.co.kr</a></div></div><p style=\"font-size:8pt;color:#767676\">&copy; 2020 - <a href=\"/intl/ko/policies/privacy/\">&#44060;&#51064;&#51221;&#48372;&#52376;&#47532;&#48169;&#52840;</a> - <a href=\"/intl/ko/policies/terms/\">&#50557;&#44288;</a></p></span></center><script nonce=\"sNZI3pZ0zpG7oElNpKMtbg==\">(function(){window.google.cdo={height:0,width:0};(function(){var a=window.innerWidth,b=window.innerHeight;if(!a||!b){var c=window.document,d=\"CSS1Compat\"==c.compatMode?c.documentElement:c.body;a=d.clientWidth;b=d.clientHeight}a&&b&&(a!=google.cdo.width||b!=google.cdo.height)&&google.log(\"\",\"\",\"/client_204?&atyp=i&biw=\"+a+\"&bih=\"+b+\"&ei=\"+google.kEI);}).call(this);})();(function(){var u=\\'/xjs/_/js/k\\\\x3dxjs.hp.en.0EuLPigu6zs.O/m\\\\x3dsb_he,d/am\\\\x3dgAEBNgI/d\\\\x3d1/rs\\\\x3dACT90oHVjWcAH6SUvaGkbnvcPU9bG2loWA\\';\\nsetTimeout(function(){var b=document;var a=\"SCRIPT\";\"application/xhtml+xml\"===b.contentType&&(a=a.toLowerCase());a=b.createElement(a);a.src=u;google.timers&&google.timers.load&&google.tick&&google.tick(\"load\",\"xjsls\");document.body.appendChild(a)},0);})();(function(){window.google.xjsu=\\'/xjs/_/js/k\\\\x3dxjs.hp.en.0EuLPigu6zs.O/m\\\\x3dsb_he,d/am\\\\x3dgAEBNgI/d\\\\x3d1/rs\\\\x3dACT90oHVjWcAH6SUvaGkbnvcPU9bG2loWA\\';})();function _DumpException(e){throw e;}\\nfunction _F_installCss(c){}\\n(function(){google.spjs=false;google.snet=true;google.em=[];google.emw=false;google.pdt=0;})();(function(){var pmc=\\'{\\\\x22d\\\\x22:{},\\\\x22sb_he\\\\x22:{\\\\x22agen\\\\x22:true,\\\\x22cgen\\\\x22:true,\\\\x22client\\\\x22:\\\\x22heirloom-hp\\\\x22,\\\\x22dh\\\\x22:true,\\\\x22dhqt\\\\x22:true,\\\\x22ds\\\\x22:\\\\x22\\\\x22,\\\\x22ffql\\\\x22:\\\\x22ko\\\\x22,\\\\x22fl\\\\x22:true,\\\\x22host\\\\x22:\\\\x22google.com\\\\x22,\\\\x22isbh\\\\x22:28,\\\\x22jsonp\\\\x22:true,\\\\x22msgs\\\\x22:{\\\\x22cibl\\\\x22:\\\\x22&#44160;&#49353;&#50612; &#51648;&#50864;&#44592;\\\\x22,\\\\x22dym\\\\x22:\\\\x22&#51060;&#44163;&#51012; &#52286;&#51004;&#49512;&#45208;&#50836;?\\\\x22,\\\\x22lcky\\\\x22:\\\\x22I&#8217;m Feeling Lucky\\\\x22,\\\\x22lml\\\\x22:\\\\x22&#51088;&#49464;&#55176; &#50508;&#50500;&#48372;&#44592;\\\\x22,\\\\x22oskt\\\\x22:\\\\x22&#51077;&#47141; &#46020;&#44396;\\\\x22,\\\\x22psrc\\\\x22:\\\\x22&#44160;&#49353;&#50612;&#44032; \\\\\\\\u003Ca href\\\\x3d\\\\\\\\\\\\x22/history\\\\\\\\\\\\x22\\\\\\\\u003E&#50937; &#44592;&#47197;\\\\\\\\u003C/a\\\\\\\\u003E&#50640;&#49436; &#49325;&#51228;&#46104;&#50632;&#49845;&#45768;&#45796;.\\\\x22,\\\\x22psrl\\\\x22:\\\\x22&#49325;&#51228;\\\\x22,\\\\x22sbit\\\\x22:\\\\x22&#51060;&#48120;&#51648;&#47196; &#44160;&#49353;\\\\x22,\\\\x22srch\\\\x22:\\\\x22Google &#44160;&#49353;\\\\x22},\\\\x22ovr\\\\x22:{},\\\\x22pq\\\\x22:\\\\x22\\\\x22,\\\\x22refpd\\\\x22:true,\\\\x22refspre\\\\x22:true,\\\\x22rfs\\\\x22:[],\\\\x22sbpl\\\\x22:16,\\\\x22sbpr\\\\x22:16,\\\\x22scd\\\\x22:10,\\\\x22stok\\\\x22:\\\\x221YcGkVRb2S19XBrlrQRQLpgFSZo\\\\x22,\\\\x22uhde\\\\x22:false}}\\';google.pmc=JSON.parse(pmc);})();</script>        </body></html>'"
      ]
     },
     "execution_count": 6,
     "metadata": {},
     "output_type": "execute_result"
    }
   ],
   "source": [
    "page.text"
   ]
  },
  {
   "cell_type": "markdown",
   "metadata": {},
   "source": [
    "### TV 시청률 크롤링"
   ]
  },
  {
   "cell_type": "code",
   "execution_count": 7,
   "metadata": {},
   "outputs": [],
   "source": [
    "tv = requests.get(\"https://workey.codeit.kr/ratings/index\")"
   ]
  },
  {
   "cell_type": "code",
   "execution_count": 9,
   "metadata": {},
   "outputs": [
    {
     "data": {
      "text/plain": [
       "'<!DOCTYPE html>\\n<html lang=\"ko\">\\n<head>\\n  <title>티비랭킹닷컴</title>\\n  <meta charset=\"utf-8\">\\n  <link href=\"https://fonts.googleapis.com/css?family=Noto+Sans+KR\" rel=\"stylesheet\">\\n  <style>\\n    /* body start */\\n    body {\\n      font-family: \\'Noto Sans KR\\', sans-serif;\\n      margin: 0;\\n    }\\n\\n    /* navigation bar start */\\n    .nav-bar {\\n      position: fixed;\\n      width: 100%;\\n      padding-top: 10px;\\n      padding-bottom: 10px;\\n      background-color: #ffffff;\\n      box-shadow: 0 2px 4px 0 rgba(0, 0, 0, 0.14);\\n      z-index: 1;\\n    }\\n\\n    .nav-bar #tv-image {\\n      margin-left: 78px;\\n      margin-right: 15px;\\n      height: 36px;\\n      vertical-align: middle;\\n    }\\n\\n    .nav-bar span {\\n      font-weight: bold;\\n      color: #4a4a4a;\\n    }\\n\\n    /* date picker start */\\n    .date-pick {\\n      padding-top: 56px;\\n      height: 200px;\\n      background-color: #efefef;\\n      margin-left: auto;\\n      margin-right: auto;\\n      position: relative;\\n    }\\n\\n    .date-pick .search-box {\\n      text-align: center;\\n      position: absolute;\\n      display: block;\\n      left: 50%;\\n      transform: translateX(-50%);\\n    }\\n\\n    .date-pick .search-box p {\\n      text-align: left;\\n    }\\n\\n    .date-pick .search-box select {\\n      padding: 4px;\\n    }\\n\\n    .date-pick .search-box .search-btn {\\n      display: inline-block;\\n      margin-left: 20px;\\n      padding: 3px 28px 4px 28px;\\n      border-radius: 4px;\\n      background-color: #00a9dc;\\n      font-weight: 300;\\n      font-size: 13.333px;\\n      height: 27px;\\n      box-sizing: border-box;\\n      color: #ffffff;\\n    }\\n\\n    /* main body start */\\n\\n    .container {\\n      margin-left: auto;\\n      margin-right: auto;\\n    }\\n\\n    .row.top-table {\\n      background-color: #00a9dc;\\n      color: #ffffff;\\n      padding-top: 20px;\\n      padding-bottom: 20px;\\n    }\\n\\n    table {\\n      border-collapse: collapse;\\n      border-spacing: 2px;\\n      font-size: 16px;\\n    }\\n\\n    td, th {\\n      display: table-cell;\\n      color: #4a4a4a;\\n    }\\n\\n    .row .rank {\\n      padding-left: 25px;\\n    }\\n\\n    .row .channel {\\n      padding-left: 58px;\\n    }\\n\\n    .row .program {\\n      padding-left: 41px;\\n    }\\n\\n    .row .percent {\\n      color: #00a9dc;\\n      padding-left: 100px;\\n    }\\n\\n    .top-table.row * {\\n      color: #ffffff;\\n      font-weight: 300;\\n    }\\n\\n    .top-table.row .rank {\\n      padding-left: 17px;\\n      padding-right: 17px;\\n    }\\n\\n    .top-table.row .channel {\\n      padding-right: 58px;\\n    }\\n\\n    .top-table.row .program {\\n      padding-right: 41px;\\n    }\\n\\n    .top-table.row .percent {\\n      padding-right: 28px;\\n    }\\n\\n    .header-row {\\n      min-width: 391px;\\n      display: inline-block;\\n      text-align: center;\\n    }\\n  </style>\\n</head>\\n<body>\\n<script src=\"https://code.jquery.com/jquery-3.2.1.min.js\"\\n        integrity=\"sha256-hwg4gsxgFZhOsEEamdOYGBf13FyQuiTwlAQgxVSNgt4=\"\\n        crossorigin=\"anonymous\">\\n</script>\\n\\n<!-- NAVIGATION BAR -->\\n<div class=\"nav-bar\">\\n  <img src=\"/images/nielsen/group.png\" id=\\'tv-image\\'>\\n  <span>TV Ranking.com</span>\\n</div>\\n<!-- DATE PICKER -->\\n<div class=\\'date-pick\\'>\\n  <div style=\"height:55px;\"></div>\\n  <div class=\\'search-box\\'>\\n    <p style=\"font-size: 16px;color:#4a4a4a;margin-bottom: 4px;\">날짜 검색</p>\\n    <section class=\"header-row\">\\n      <select name=\"year\" style=\"padding-right: 32px\" class=\"getYear\">\\n        <option selected=\"selected\">2010</option>\\n        <option>2011</option>\\n        <option>2012</option>\\n        <option>2013</option>\\n        <option>2014</option>\\n        <option>2015</option>\\n        <option>2016</option>\\n        <option>2017</option>\\n        <option>2018</option>\\n      </select>\\n      <select class=\"getMonth\" name=\"month\" style=\"padding-right: 32px\">\\n        <option selected=\"selected\">1</option>\\n        <option>2</option>\\n        <option>3</option>\\n        <option>4</option>\\n        <option>5</option>\\n        <option>6</option>\\n        <option>7</option>\\n        <option>8</option>\\n        <option>9</option>\\n        <option>10</option>\\n        <option>11</option>\\n        <option>12</option>\\n      </select>\\n      <select id=\"weekSelectBox\">\\n        <option value=\"0\" selected=\"selected\">2009.12.28 ~ 2010.01.03</option>\\n        <option value=\"1\">2010.01.04 ~ 2010.01.10</option>\\n        <option value=\"2\">2010.01.11 ~ 2010.01.17</option>\\n        <option value=\"3\">2010.01.18 ~ 2010.01.24</option>\\n        <option value=\"4\">2010.01.25 ~ 2010.01.31</option>\\n      </select>\\n      <div class=\"search-btn\">\\n        search\\n      </div>\\n    </section>\\n  </div>\\n</div>\\n\\n<!-- MAIN BODY -->\\n<div class=\"container\">\\n  <div class=\"box\">\\n    <p style=\"font-size:18px;color:#4a4a4a;text-align: center;margin-top:60px; margin-bottom:15px;\">가구시청률 TOP 10</p>\\n    <p style=\"font-size:14px;color:#9b9b9b;text-align: center;margin-bottom:25px\">(분석기준: National, 유료플랫폼 가입 기구,\\n      단위:%)</p>\\n    <table style=\"margin-left: auto;margin-right: auto;\" cellpadding=\"7\">\\n      <tr height=\"64\" class=\"top-table row\">\\n        <th class=\"rank\">순위</th>\\n        <th class=\"channel\">채널</th>\\n        <th class=\"program\">프로그램</th>\\n        <th class=\"percent\">시청률</th>\\n      </tr>\\n      <tr class=\"row\">\\n        <td class=\"rank\">1</td>\\n        <td class=\"channel\">KBS2</td>\\n        <td class=\"program\">주말연속극(수상한삼형제)</td>\\n        <td class=\"percent\">33.4</td>\\n      </tr>\\n      <tr class=\"row\">\\n        <td class=\"rank\">2</td>\\n        <td class=\"channel\">KBS1</td>\\n        <td class=\"program\">일일연속극(다함께차차차)</td>\\n        <td class=\"percent\">33.1</td>\\n      </tr>\\n      <tr class=\"row\">\\n        <td class=\"rank\">3</td>\\n        <td class=\"channel\">KBS2</td>\\n        <td class=\"program\">해피선데이</td>\\n        <td class=\"percent\">27.1</td>\\n      </tr>\\n      <tr class=\"row\">\\n        <td class=\"rank\">4</td>\\n        <td class=\"channel\">MBC</td>\\n        <td class=\"program\">MBC연기대상2부</td>\\n        <td class=\"percent\">24.4</td>\\n      </tr>\\n      <tr class=\"row\">\\n        <td class=\"rank\">5</td>\\n        <td class=\"channel\">SBS</td>\\n        <td class=\"program\">주말극장(천만번사랑해)</td>\\n        <td class=\"percent\">24.2</td>\\n      </tr>\\n      <tr class=\"row\">\\n        <td class=\"rank\">6</td>\\n        <td class=\"channel\">MBC</td>\\n        <td class=\"program\">MBC방송연예대상2부</td>\\n        <td class=\"percent\">24.0</td>\\n      </tr>\\n      <tr class=\"row\">\\n        <td class=\"rank\">7</td>\\n        <td class=\"channel\">MBC</td>\\n        <td class=\"program\">MBC방송연예대상1부</td>\\n        <td class=\"percent\">22.4</td>\\n      </tr>\\n      <tr class=\"row\">\\n        <td class=\"rank\">8</td>\\n        <td class=\"channel\">SBS</td>\\n        <td class=\"program\">SBS연예대상2부</td>\\n        <td class=\"percent\">21.1</td>\\n      </tr>\\n      <tr class=\"row\">\\n        <td class=\"rank\">9</td>\\n        <td class=\"channel\">MBC</td>\\n        <td class=\"program\">주말기획드라마(보석비빔밥)</td>\\n        <td class=\"percent\">20.9</td>\\n      </tr>\\n      <tr class=\"row\">\\n        <td class=\"rank\">10</td>\\n        <td class=\"channel\">MBC</td>\\n        <td class=\"program\">일일시트콤(지붕뚫고하이킥)</td>\\n        <td class=\"percent\">19.9</td>\\n      </tr>\\n    </table>\\n  </div>\\n</div>\\n<script>\\n  $(\".getMonth, .getYear\").on(\"change\", function () {\\n    window.location.assign(\"/ratings/index?year=\" + $(\".getYear\").val() + \"&month=\" + $(\".getMonth\").val() + \"&weekIndex=0\");\\n\\n  });\\n  $(\".search-btn\").on(\"click\", function () {\\n    var index = $(\"#weekSelectBox\").val();\\n    window.location.assign(\"/ratings/index?year=\" + $(\".getYear\").val() + \"&month=\" + $(\".getMonth\").val() + \"&weekIndex=\" + index);\\n  });\\n</script>\\n</body>\\n</html>\\n'"
      ]
     },
     "execution_count": 9,
     "metadata": {},
     "output_type": "execute_result"
    }
   ],
   "source": [
    "tv.text"
   ]
  },
  {
   "cell_type": "code",
   "execution_count": 10,
   "metadata": {},
   "outputs": [
    {
     "data": {
      "text/plain": [
       "<Response [200]>"
      ]
     },
     "execution_count": 10,
     "metadata": {},
     "output_type": "execute_result"
    }
   ],
   "source": [
    "tv"
   ]
  },
  {
   "cell_type": "code",
   "execution_count": 11,
   "metadata": {},
   "outputs": [],
   "source": [
    "a=[]\n",
    "a.append(1)"
   ]
  },
  {
   "cell_type": "code",
   "execution_count": 13,
   "metadata": {},
   "outputs": [],
   "source": [
    "a.append(5)"
   ]
  },
  {
   "cell_type": "code",
   "execution_count": 14,
   "metadata": {},
   "outputs": [
    {
     "data": {
      "text/plain": [
       "[1, 5]"
      ]
     },
     "execution_count": 14,
     "metadata": {},
     "output_type": "execute_result"
    }
   ],
   "source": [
    "a"
   ]
  },
  {
   "cell_type": "code",
   "execution_count": null,
   "metadata": {},
   "outputs": [],
   "source": []
  }
 ],
 "metadata": {
  "kernelspec": {
   "display_name": "Python 3",
   "language": "python",
   "name": "python3"
  },
  "language_info": {
   "codemirror_mode": {
    "name": "ipython",
    "version": 3
   },
   "file_extension": ".py",
   "mimetype": "text/x-python",
   "name": "python",
   "nbconvert_exporter": "python",
   "pygments_lexer": "ipython3",
   "version": "3.7.6"
  }
 },
 "nbformat": 4,
 "nbformat_minor": 4
}
