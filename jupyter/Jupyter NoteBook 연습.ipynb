{
 "cells": [
  {
   "cell_type": "markdown",
   "metadata": {},
   "source": [
    "# MD 문법"
   ]
  },
  {
   "cell_type": "markdown",
   "metadata": {},
   "source": [
    "## Q1. 글씨 크기"
   ]
  },
  {
   "cell_type": "markdown",
   "metadata": {},
   "source": [
    "# 가장 큰 제목\n",
    "## 두번째 큰 제목\n",
    "### 세번째 큰제목\n",
    "\n",
    "이렇게 글을 작성할 수 있습니다."
   ]
  },
  {
   "cell_type": "markdown",
   "metadata": {},
   "source": [
    "별 두개로 글을 **두껍게** 쓸 수도 있고, 한개로는 *날려서* 쓸 수 있어요"
   ]
  },
  {
   "cell_type": "markdown",
   "metadata": {},
   "source": [
    "## Q2. 리스트는 어떻게 쓰죠? 별 !(순서가 없는 항목)\n",
    "* list item 1\n",
    "* list item 2"
   ]
  },
  {
   "cell_type": "markdown",
   "metadata": {},
   "source": [
    "## Q3. 순서가 있는 리스트는요?\n",
    "1. 첫번째\n",
    "2. 두번째\n",
    "3. 세번째"
   ]
  },
  {
   "cell_type": "markdown",
   "metadata": {},
   "source": [
    "## Q4. 줄바꿈을 해보자"
   ]
  },
  {
   "cell_type": "markdown",
   "metadata": {},
   "source": [
    "#### 줄바꿈 전"
   ]
  },
  {
   "cell_type": "markdown",
   "metadata": {},
   "source": [
    "경찰청 철창살은 외철창살이냐 쌍철창살이냐?\n",
    "내가 그린 기린 그림은 잘 그린 기린 그림이고 네가 그린 기린 그림은 잘 못 그린 기린 그림이다.\n",
    "신인 샹송 가수의 신춘 샹송 쇼."
   ]
  },
  {
   "cell_type": "markdown",
   "metadata": {},
   "source": [
    "#### 줄바꿈 후 (줄바꿈은 문장 끝에 스페이스 키 2번)"
   ]
  },
  {
   "cell_type": "markdown",
   "metadata": {},
   "source": [
    "경찰청 철창살은 외철창살이냐 쌍철창살이냐?  \n",
    "내가 그린 기린 그림은 잘 그린 기린 그림이고 네가 그린 기린 그림은 잘 못 그린 기린 그림이다.  \n",
    "신인 샹송 가수의 신춘 샹송 쇼.  "
   ]
  },
  {
   "cell_type": "markdown",
   "metadata": {},
   "source": [
    "## Q5. 문단 바꾸기는 엔터 두번 ~"
   ]
  },
  {
   "cell_type": "markdown",
   "metadata": {},
   "source": [
    "#### 문단바꾸기 전"
   ]
  },
  {
   "cell_type": "markdown",
   "metadata": {},
   "source": [
    "경찰청 철창살은 외철창살이냐 쌍철창살이냐?\n",
    "내가 그린 기린 그림은 잘 그린 기린 그림이고 네가 그린 기린 그림은 잘 못 그린 기린 그림이다.\n",
    "신인 샹송 가수의 신춘 샹송 쇼."
   ]
  },
  {
   "cell_type": "markdown",
   "metadata": {},
   "source": [
    "#### 문단바꾸기 후"
   ]
  },
  {
   "cell_type": "markdown",
   "metadata": {},
   "source": [
    "경찰청 철창살은 외철창살이냐 쌍철창살이냐?\n",
    "\n",
    "\n",
    "내가 그린 기린 그림은 잘 그린 기린 그림이고 네가 그린 기린 그림은 잘 못 그린 기린 그림이다.\n",
    "\n",
    "\n",
    "신인 샹송 가수의 신춘 샹송 쇼."
   ]
  },
  {
   "cell_type": "markdown",
   "metadata": {},
   "source": [
    "### Q6. 문자 강조"
   ]
  },
  {
   "cell_type": "raw",
   "metadata": {},
   "source": [
    "이탈릭체는 *별표*나 _언더바_로.\n",
    "\n",
    "볼드체는 **별표 두 개**나 __언더바 두 개__로.\n",
    "\n",
    "**별표와 _언더바_**를 섞어서.\n",
    "\n",
    "취소선은 ~~물결~~로."
   ]
  },
  {
   "cell_type": "markdown",
   "metadata": {},
   "source": [
    "별(*)과 언더바(_)를 사용해서 글자를 꾸밀 수 있어요.\n",
    "\n",
    "이탈릭체는 *별표*나 _언더바_로.\n",
    "\n",
    "볼드체는 **별표 두 개**나 __언더바 두 개__로.\n",
    "\n",
    "**별표와 _언더바_**를 섞어서.\n",
    "\n",
    "취소선은 ~~물결~~로."
   ]
  },
  {
   "cell_type": "markdown",
   "metadata": {},
   "source": [
    "## Q7. 링크\n",
    "대괄호 안에 표시할 텍스트하고 괄호 안에 링크를 넣자  \n",
    "[SSAFY](edu.ssafy.com) 이렇게"
   ]
  },
  {
   "cell_type": "markdown",
   "metadata": {},
   "source": [
    "## Q8. 코드블록\n",
    "### 코드 블록\n",
    "백틱 세개넣고 코드블록 넣기 (언어지정 가능)\n",
    "#### python\n",
    "```python\n",
    "print(\"hello world\")\n",
    "for i in range(10):\n",
    "    print(i)\n",
    "    ```"
   ]
  },
  {
   "cell_type": "markdown",
   "metadata": {},
   "source": [
    "#### javascript\n",
    "```javascript\n",
    "console.log(\"hello world\")\n",
    "```"
   ]
  },
  {
   "cell_type": "markdown",
   "metadata": {},
   "source": [
    "#### 인라인 코드\n",
    "백틱 두개로 감싸면 텍스트안에 코드를 넣을 수 있당\n",
    "코딩을 처음 시작할 때 가장 많이하는 것은 ``console.log(\"hello World\")``나 ``print(\"hello world\")`` 가 아니겠어?? "
   ]
  },
  {
   "cell_type": "markdown",
   "metadata": {},
   "source": [
    "## Q9. 구분선\n",
    "바(-), 빼기 기호로 구분선을 추가할 수 있다\n",
    "빼기 3개로 가능  \n",
    "``구분선 위 --- 구분선 아래``  \n",
    "구분선 위 --- 구분선 아래"
   ]
  },
  {
   "cell_type": "markdown",
   "metadata": {},
   "source": []
  },
  {
   "cell_type": "markdown",
   "metadata": {},
   "source": []
  },
  {
   "cell_type": "markdown",
   "metadata": {},
   "source": []
  },
  {
   "cell_type": "markdown",
   "metadata": {},
   "source": []
  },
  {
   "cell_type": "markdown",
   "metadata": {},
   "source": []
  }
 ],
 "metadata": {
  "kernelspec": {
   "display_name": "Python 3",
   "language": "python",
   "name": "python3"
  },
  "language_info": {
   "codemirror_mode": {
    "name": "ipython",
    "version": 3
   },
   "file_extension": ".py",
   "mimetype": "text/x-python",
   "name": "python",
   "nbconvert_exporter": "python",
   "pygments_lexer": "ipython3",
   "version": "3.7.6"
  }
 },
 "nbformat": 4,
 "nbformat_minor": 4
}
